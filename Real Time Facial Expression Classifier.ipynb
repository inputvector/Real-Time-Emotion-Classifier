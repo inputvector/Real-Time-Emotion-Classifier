{
 "cells": [
  {
   "cell_type": "markdown",
   "metadata": {},
   "source": [
    "# Libraries"
   ]
  },
  {
   "cell_type": "code",
   "execution_count": 17,
   "metadata": {},
   "outputs": [],
   "source": [
    "import numpy as np\n",
    "import pandas as pd\n",
    "import matplotlib.pyplot as plt\n",
    "from pandas import ExcelWriter, ExcelFile, read_excel, DataFrame\n",
    "from openpyxl import load_workbook\n",
    "import cv2\n",
    "import sys\n",
    "from sklearn.model_selection import train_test_split\n",
    "from sklearn.decomposition import PCA\n",
    "from sklearn.svm import SVC\n",
    "from sklearn.metrics import confusion_matrix\n",
    "from sklearn import preprocessing\n",
    "from sklearn.preprocessing import MinMaxScaler\n",
    "from sklearn.metrics import classification_report\n",
    "import time\n",
    "import seaborn as sns\n",
    "import joblib\n",
    "from joblib import dump, load\n",
    "sys.modules['sklearn.externals.joblib'] = joblib"
   ]
  },
  {
   "cell_type": "markdown",
   "metadata": {},
   "source": [
    "# Reading data function"
   ]
  },
  {
   "cell_type": "code",
   "execution_count": 2,
   "metadata": {},
   "outputs": [],
   "source": [
    "def readExcelSheet1(excelfile):\n",
    "    return (read_excel(excelfile)).values\n",
    "\n",
    "def readExcelRange(excelfile,sheetname=\"Sheet1\",startrow=1,endrow=1,startcol=1,endcol=1):\n",
    "    values=(read_excel(excelfile, sheetname,header=None)).values;\n",
    "    return values[startrow-1:endrow,startcol-1:endcol]\n",
    "\n",
    "def readExcel(excelfile,**args):\n",
    "    if args:\n",
    "        data=readExcelRange(excelfile,**args)\n",
    "    else:\n",
    "        data=readExcelSheet1(excelfile)\n",
    "    [nr,nc]=data.shape\n",
    "    if [nr,nc]==[1,1]:\n",
    "        return data[0,0]\n",
    "    elif min([nr,nc])==1:\n",
    "        return np.squeeze(data)\n",
    "    else:\n",
    "        return data"
   ]
  },
  {
   "cell_type": "markdown",
   "metadata": {},
   "source": [
    "## Reading data function call"
   ]
  },
  {
   "cell_type": "code",
   "execution_count": 3,
   "metadata": {},
   "outputs": [],
   "source": [
    "excelfile=r\"64x64.xlsx\"\n",
    "X = readExcel(excelfile)"
   ]
  },
  {
   "cell_type": "code",
   "execution_count": 4,
   "metadata": {},
   "outputs": [
    {
     "data": {
      "text/plain": [
       "2    0.40458\n",
       "0    0.29771\n",
       "1    0.29771\n",
       "Name: 4096, dtype: float64"
      ]
     },
     "execution_count": 4,
     "metadata": {},
     "output_type": "execute_result"
    }
   ],
   "source": [
    "df = pd.DataFrame(X)\n",
    "df.iloc[: , -1].value_counts() / df.shape[0]"
   ]
  },
  {
   "cell_type": "code",
   "execution_count": 5,
   "metadata": {},
   "outputs": [
    {
     "data": {
      "text/plain": [
       "Text(0, 0.5, 'Count')"
      ]
     },
     "execution_count": 5,
     "metadata": {},
     "output_type": "execute_result"
    },
    {
     "data": {
      "image/png": "[encoded data removed]",
      "text/plain": [
       "<Figure size 576x432 with 1 Axes>"
      ]
     },
     "metadata": {
      "needs_background": "light"
     },
     "output_type": "display_data"
    }
   ],
   "source": [
    "plt.figure(figsize=(8,6))\n",
    "ax = sns.countplot(x=4096,data=df)\n",
    "plt.title('')\n",
    "plt.xlabel('Labels')\n",
    "plt.ylabel('Count')\n"
   ]
  },
  {
   "cell_type": "code",
   "execution_count": 6,
   "metadata": {},
   "outputs": [
    {
     "data": {
      "text/html": [
       "<div>\n",
       "<style scoped>\n",
       "    .dataframe tbody tr th:only-of-type {\n",
       "        vertical-align: middle;\n",
       "    }\n",
       "\n",
       "    .dataframe tbody tr th {\n",
       "        vertical-align: top;\n",
       "    }\n",
       "\n",
       "    .dataframe thead th {\n",
       "        text-align: right;\n",
       "    }\n",
       "</style>\n",
       "<table border=\"1\" class=\"dataframe\">\n",
       "  <thead>\n",
       "    <tr style=\"text-align: right;\">\n",
       "      <th></th>\n",
       "      <th>0</th>\n",
       "      <th>1</th>\n",
       "      <th>2</th>\n",
       "      <th>3</th>\n",
       "      <th>4</th>\n",
       "      <th>5</th>\n",
       "      <th>6</th>\n",
       "      <th>7</th>\n",
       "      <th>8</th>\n",
       "      <th>9</th>\n",
       "      <th>...</th>\n",
       "      <th>4087</th>\n",
       "      <th>4088</th>\n",
       "      <th>4089</th>\n",
       "      <th>4090</th>\n",
       "      <th>4091</th>\n",
       "      <th>4092</th>\n",
       "      <th>4093</th>\n",
       "      <th>4094</th>\n",
       "      <th>4095</th>\n",
       "      <th>4096</th>\n",
       "    </tr>\n",
       "  </thead>\n",
       "  <tbody>\n",
       "    <tr>\n",
       "      <th>0</th>\n",
       "      <td>234</td>\n",
       "      <td>135</td>\n",
       "      <td>64</td>\n",
       "      <td>71</td>\n",
       "      <td>64</td>\n",
       "      <td>44</td>\n",
       "      <td>24</td>\n",
       "      <td>48</td>\n",
       "      <td>65</td>\n",
       "      <td>71</td>\n",
       "      <td>...</td>\n",
       "      <td>201</td>\n",
       "      <td>253</td>\n",
       "      <td>218</td>\n",
       "      <td>196</td>\n",
       "      <td>171</td>\n",
       "      <td>176</td>\n",
       "      <td>182</td>\n",
       "      <td>189</td>\n",
       "      <td>193</td>\n",
       "      <td>0</td>\n",
       "    </tr>\n",
       "    <tr>\n",
       "      <th>1</th>\n",
       "      <td>38</td>\n",
       "      <td>39</td>\n",
       "      <td>39</td>\n",
       "      <td>36</td>\n",
       "      <td>37</td>\n",
       "      <td>37</td>\n",
       "      <td>33</td>\n",
       "      <td>30</td>\n",
       "      <td>42</td>\n",
       "      <td>54</td>\n",
       "      <td>...</td>\n",
       "      <td>106</td>\n",
       "      <td>110</td>\n",
       "      <td>110</td>\n",
       "      <td>107</td>\n",
       "      <td>110</td>\n",
       "      <td>112</td>\n",
       "      <td>118</td>\n",
       "      <td>131</td>\n",
       "      <td>137</td>\n",
       "      <td>0</td>\n",
       "    </tr>\n",
       "    <tr>\n",
       "      <th>2</th>\n",
       "      <td>102</td>\n",
       "      <td>101</td>\n",
       "      <td>102</td>\n",
       "      <td>99</td>\n",
       "      <td>100</td>\n",
       "      <td>91</td>\n",
       "      <td>221</td>\n",
       "      <td>255</td>\n",
       "      <td>255</td>\n",
       "      <td>255</td>\n",
       "      <td>...</td>\n",
       "      <td>106</td>\n",
       "      <td>110</td>\n",
       "      <td>120</td>\n",
       "      <td>82</td>\n",
       "      <td>93</td>\n",
       "      <td>100</td>\n",
       "      <td>99</td>\n",
       "      <td>100</td>\n",
       "      <td>99</td>\n",
       "      <td>0</td>\n",
       "    </tr>\n",
       "    <tr>\n",
       "      <th>3</th>\n",
       "      <td>169</td>\n",
       "      <td>186</td>\n",
       "      <td>175</td>\n",
       "      <td>183</td>\n",
       "      <td>200</td>\n",
       "      <td>182</td>\n",
       "      <td>118</td>\n",
       "      <td>106</td>\n",
       "      <td>98</td>\n",
       "      <td>166</td>\n",
       "      <td>...</td>\n",
       "      <td>37</td>\n",
       "      <td>32</td>\n",
       "      <td>29</td>\n",
       "      <td>29</td>\n",
       "      <td>30</td>\n",
       "      <td>32</td>\n",
       "      <td>30</td>\n",
       "      <td>32</td>\n",
       "      <td>63</td>\n",
       "      <td>0</td>\n",
       "    </tr>\n",
       "    <tr>\n",
       "      <th>4</th>\n",
       "      <td>87</td>\n",
       "      <td>86</td>\n",
       "      <td>87</td>\n",
       "      <td>89</td>\n",
       "      <td>72</td>\n",
       "      <td>30</td>\n",
       "      <td>12</td>\n",
       "      <td>4</td>\n",
       "      <td>1</td>\n",
       "      <td>28</td>\n",
       "      <td>...</td>\n",
       "      <td>129</td>\n",
       "      <td>140</td>\n",
       "      <td>149</td>\n",
       "      <td>118</td>\n",
       "      <td>40</td>\n",
       "      <td>53</td>\n",
       "      <td>71</td>\n",
       "      <td>71</td>\n",
       "      <td>72</td>\n",
       "      <td>0</td>\n",
       "    </tr>\n",
       "  </tbody>\n",
       "</table>\n",
       "<p>5 rows × 4097 columns</p>\n",
       "</div>"
      ],
      "text/plain": [
       "   0     1     2     3     4     5     6     7     8     9     ...  4087  \\\n",
       "0   234   135    64    71    64    44    24    48    65    71  ...   201   \n",
       "1    38    39    39    36    37    37    33    30    42    54  ...   106   \n",
       "2   102   101   102    99   100    91   221   255   255   255  ...   106   \n",
       "3   169   186   175   183   200   182   118   106    98   166  ...    37   \n",
       "4    87    86    87    89    72    30    12     4     1    28  ...   129   \n",
       "\n",
       "   4088  4089  4090  4091  4092  4093  4094  4095  4096  \n",
       "0   253   218   196   171   176   182   189   193     0  \n",
       "1   110   110   107   110   112   118   131   137     0  \n",
       "2   110   120    82    93   100    99   100    99     0  \n",
       "3    32    29    29    30    32    30    32    63     0  \n",
       "4   140   149   118    40    53    71    71    72     0  \n",
       "\n",
       "[5 rows x 4097 columns]"
      ]
     },
     "execution_count": 6,
     "metadata": {},
     "output_type": "execute_result"
    }
   ],
   "source": [
    "df.head()"
   ]
  },
  {
   "cell_type": "markdown",
   "metadata": {},
   "source": [
    "## Data Splitting"
   ]
  },
  {
   "cell_type": "code",
   "execution_count": 7,
   "metadata": {},
   "outputs": [],
   "source": [
    "target = df.iloc[:,-1]\n",
    "df.drop(columns=df.columns[-1], axis=1, inplace=True)\n",
    "data = df"
   ]
  },
  {
   "cell_type": "code",
   "execution_count": 8,
   "metadata": {},
   "outputs": [
    {
     "data": {
      "text/html": [
       "<div>\n",
       "<style scoped>\n",
       "    .dataframe tbody tr th:only-of-type {\n",
       "        vertical-align: middle;\n",
       "    }\n",
       "\n",
       "    .dataframe tbody tr th {\n",
       "        vertical-align: top;\n",
       "    }\n",
       "\n",
       "    .dataframe thead th {\n",
       "        text-align: right;\n",
       "    }\n",
       "</style>\n",
       "<table border=\"1\" class=\"dataframe\">\n",
       "  <thead>\n",
       "    <tr style=\"text-align: right;\">\n",
       "      <th></th>\n",
       "      <th>0</th>\n",
       "      <th>1</th>\n",
       "      <th>2</th>\n",
       "      <th>3</th>\n",
       "      <th>4</th>\n",
       "      <th>5</th>\n",
       "      <th>6</th>\n",
       "      <th>7</th>\n",
       "      <th>8</th>\n",
       "      <th>9</th>\n",
       "      <th>...</th>\n",
       "      <th>4086</th>\n",
       "      <th>4087</th>\n",
       "      <th>4088</th>\n",
       "      <th>4089</th>\n",
       "      <th>4090</th>\n",
       "      <th>4091</th>\n",
       "      <th>4092</th>\n",
       "      <th>4093</th>\n",
       "      <th>4094</th>\n",
       "      <th>4095</th>\n",
       "    </tr>\n",
       "  </thead>\n",
       "  <tbody>\n",
       "    <tr>\n",
       "      <th>0</th>\n",
       "      <td>234</td>\n",
       "      <td>135</td>\n",
       "      <td>64</td>\n",
       "      <td>71</td>\n",
       "      <td>64</td>\n",
       "      <td>44</td>\n",
       "      <td>24</td>\n",
       "      <td>48</td>\n",
       "      <td>65</td>\n",
       "      <td>71</td>\n",
       "      <td>...</td>\n",
       "      <td>186</td>\n",
       "      <td>201</td>\n",
       "      <td>253</td>\n",
       "      <td>218</td>\n",
       "      <td>196</td>\n",
       "      <td>171</td>\n",
       "      <td>176</td>\n",
       "      <td>182</td>\n",
       "      <td>189</td>\n",
       "      <td>193</td>\n",
       "    </tr>\n",
       "    <tr>\n",
       "      <th>1</th>\n",
       "      <td>38</td>\n",
       "      <td>39</td>\n",
       "      <td>39</td>\n",
       "      <td>36</td>\n",
       "      <td>37</td>\n",
       "      <td>37</td>\n",
       "      <td>33</td>\n",
       "      <td>30</td>\n",
       "      <td>42</td>\n",
       "      <td>54</td>\n",
       "      <td>...</td>\n",
       "      <td>100</td>\n",
       "      <td>106</td>\n",
       "      <td>110</td>\n",
       "      <td>110</td>\n",
       "      <td>107</td>\n",
       "      <td>110</td>\n",
       "      <td>112</td>\n",
       "      <td>118</td>\n",
       "      <td>131</td>\n",
       "      <td>137</td>\n",
       "    </tr>\n",
       "    <tr>\n",
       "      <th>2</th>\n",
       "      <td>102</td>\n",
       "      <td>101</td>\n",
       "      <td>102</td>\n",
       "      <td>99</td>\n",
       "      <td>100</td>\n",
       "      <td>91</td>\n",
       "      <td>221</td>\n",
       "      <td>255</td>\n",
       "      <td>255</td>\n",
       "      <td>255</td>\n",
       "      <td>...</td>\n",
       "      <td>103</td>\n",
       "      <td>106</td>\n",
       "      <td>110</td>\n",
       "      <td>120</td>\n",
       "      <td>82</td>\n",
       "      <td>93</td>\n",
       "      <td>100</td>\n",
       "      <td>99</td>\n",
       "      <td>100</td>\n",
       "      <td>99</td>\n",
       "    </tr>\n",
       "    <tr>\n",
       "      <th>3</th>\n",
       "      <td>169</td>\n",
       "      <td>186</td>\n",
       "      <td>175</td>\n",
       "      <td>183</td>\n",
       "      <td>200</td>\n",
       "      <td>182</td>\n",
       "      <td>118</td>\n",
       "      <td>106</td>\n",
       "      <td>98</td>\n",
       "      <td>166</td>\n",
       "      <td>...</td>\n",
       "      <td>32</td>\n",
       "      <td>37</td>\n",
       "      <td>32</td>\n",
       "      <td>29</td>\n",
       "      <td>29</td>\n",
       "      <td>30</td>\n",
       "      <td>32</td>\n",
       "      <td>30</td>\n",
       "      <td>32</td>\n",
       "      <td>63</td>\n",
       "    </tr>\n",
       "    <tr>\n",
       "      <th>4</th>\n",
       "      <td>87</td>\n",
       "      <td>86</td>\n",
       "      <td>87</td>\n",
       "      <td>89</td>\n",
       "      <td>72</td>\n",
       "      <td>30</td>\n",
       "      <td>12</td>\n",
       "      <td>4</td>\n",
       "      <td>1</td>\n",
       "      <td>28</td>\n",
       "      <td>...</td>\n",
       "      <td>124</td>\n",
       "      <td>129</td>\n",
       "      <td>140</td>\n",
       "      <td>149</td>\n",
       "      <td>118</td>\n",
       "      <td>40</td>\n",
       "      <td>53</td>\n",
       "      <td>71</td>\n",
       "      <td>71</td>\n",
       "      <td>72</td>\n",
       "    </tr>\n",
       "  </tbody>\n",
       "</table>\n",
       "<p>5 rows × 4096 columns</p>\n",
       "</div>"
      ],
      "text/plain": [
       "   0     1     2     3     4     5     6     7     8     9     ...  4086  \\\n",
       "0   234   135    64    71    64    44    24    48    65    71  ...   186   \n",
       "1    38    39    39    36    37    37    33    30    42    54  ...   100   \n",
       "2   102   101   102    99   100    91   221   255   255   255  ...   103   \n",
       "3   169   186   175   183   200   182   118   106    98   166  ...    32   \n",
       "4    87    86    87    89    72    30    12     4     1    28  ...   124   \n",
       "\n",
       "   4087  4088  4089  4090  4091  4092  4093  4094  4095  \n",
       "0   201   253   218   196   171   176   182   189   193  \n",
       "1   106   110   110   107   110   112   118   131   137  \n",
       "2   106   110   120    82    93   100    99   100    99  \n",
       "3    37    32    29    29    30    32    30    32    63  \n",
       "4   129   140   149   118    40    53    71    71    72  \n",
       "\n",
       "[5 rows x 4096 columns]"
      ]
     },
     "execution_count": 8,
     "metadata": {},
     "output_type": "execute_result"
    }
   ],
   "source": [
    "data.head()"
   ]
  },
  {
   "cell_type": "code",
   "execution_count": 9,
   "metadata": {},
   "outputs": [
    {
     "data": {
      "text/plain": [
       "0    0\n",
       "1    0\n",
       "2    0\n",
       "3    0\n",
       "4    0\n",
       "Name: 4096, dtype: int64"
      ]
     },
     "execution_count": 9,
     "metadata": {},
     "output_type": "execute_result"
    }
   ],
   "source": [
    "target.head()"
   ]
  },
  {
   "cell_type": "code",
   "execution_count": 10,
   "metadata": {},
   "outputs": [
    {
     "name": "stdout",
     "output_type": "stream",
     "text": [
      "Size\n",
      "Dataset(row,column) : (262, 4096)\n",
      "Dataset(row,column) : (262,)\n"
     ]
    }
   ],
   "source": [
    "print('Size')\n",
    "print(\"Dataset(row,column) :\" ,data.shape )\n",
    "print(\"Dataset(row,column) :\" ,target.shape )"
   ]
  },
  {
   "cell_type": "code",
   "execution_count": 11,
   "metadata": {},
   "outputs": [],
   "source": [
    "data_train, data_test, label_train, label_test = train_test_split( data, target, test_size=0.1, random_state=0)\n",
    "K=data_test"
   ]
  },
  {
   "cell_type": "code",
   "execution_count": 12,
   "metadata": {},
   "outputs": [
    {
     "name": "stdout",
     "output_type": "stream",
     "text": [
      "Size after test-train split\n",
      "Dataset(row,column) : (235, 4096)\n",
      "Dataset(row,column) : (27, 4096)\n"
     ]
    }
   ],
   "source": [
    "print('Size after test-train split')\n",
    "print(\"Dataset(row,column) :\" ,data_train.shape )\n",
    "print(\"Dataset(row,column) :\" ,data_test.shape )"
   ]
  },
  {
   "cell_type": "markdown",
   "metadata": {},
   "source": [
    "## Dimentional Reduction - PCA"
   ]
  },
  {
   "cell_type": "code",
   "execution_count": 13,
   "metadata": {},
   "outputs": [],
   "source": [
    "pca = PCA(n_components = 0.99)\n",
    "pca.fit(data_train)\n",
    "joblib.dump(pca, 'pca.joblib')\n",
    "pca = joblib.load('pca.joblib')\n",
    "data_train = pca.transform(data_train)\n",
    "data_test = pca.transform(data_test)"
   ]
  },
  {
   "cell_type": "code",
   "execution_count": 14,
   "metadata": {},
   "outputs": [
    {
     "name": "stdout",
     "output_type": "stream",
     "text": [
      "Size after PCA\n",
      "Dataset(row,column) : (235, 174)\n",
      "Dataset(row,column) : (27, 174)\n"
     ]
    }
   ],
   "source": [
    "print('Size after PCA')\n",
    "print(\"Dataset(row,column) :\" ,data_train.shape )\n",
    "print(\"Dataset(row,column) :\" ,data_test.shape )"
   ]
  },
  {
   "cell_type": "markdown",
   "metadata": {},
   "source": [
    "## Machine Learning Model - Support Vector Machines"
   ]
  },
  {
   "cell_type": "code",
   "execution_count": 15,
   "metadata": {},
   "outputs": [],
   "source": [
    "svm = SVC(C=0.01,kernel='linear',tol=0.01,verbose=False,gamma = 1e-8)"
   ]
  },
  {
   "cell_type": "code",
   "execution_count": 16,
   "metadata": {},
   "outputs": [
    {
     "data": {
      "text/plain": [
       "SVC(C=0.01, gamma=1e-08, kernel='linear', tol=0.01)"
      ]
     },
     "execution_count": 16,
     "metadata": {},
     "output_type": "execute_result"
    }
   ],
   "source": [
    "svm.fit(data_train, label_train) "
   ]
  },
  {
   "cell_type": "code",
   "execution_count": 19,
   "metadata": {},
   "outputs": [
    {
     "data": {
      "text/plain": [
       "0.9629629629629629"
      ]
     },
     "execution_count": 19,
     "metadata": {},
     "output_type": "execute_result"
    }
   ],
   "source": [
    "svm.score(data_test,label_test)"
   ]
  },
  {
   "cell_type": "code",
   "execution_count": 18,
   "metadata": {},
   "outputs": [],
   "source": [
    "predicted = svm.predict(data_test)"
   ]
  },
  {
   "cell_type": "code",
   "execution_count": 21,
   "metadata": {},
   "outputs": [
    {
     "name": "stdout",
     "output_type": "stream",
     "text": [
      "              precision    recall  f1-score   support\n",
      "\n",
      "     neutral       0.86      1.00      0.92         6\n",
      "         sad       1.00      0.89      0.94         9\n",
      "       happy       1.00      1.00      1.00        12\n",
      "\n",
      "    accuracy                           0.96        27\n",
      "   macro avg       0.95      0.96      0.95        27\n",
      "weighted avg       0.97      0.96      0.96        27\n",
      "\n"
     ]
    }
   ],
   "source": [
    "print(classification_report(label_test, predicted, target_names= ['neutral', 'sad', 'happy']))"
   ]
  },
  {
   "cell_type": "code",
   "execution_count": 22,
   "metadata": {},
   "outputs": [
    {
     "data": {
      "text/plain": [
       "<AxesSubplot:>"
      ]
     },
     "execution_count": 22,
     "metadata": {},
     "output_type": "execute_result"
    },
    {
     "data": {
      "image/png": "[encoded data removed]",
      "text/plain": [
       "<Figure size 576x432 with 2 Axes>"
      ]
     },
     "metadata": {
      "needs_background": "light"
     },
     "output_type": "display_data"
    }
   ],
   "source": [
    "cm = confusion_matrix(label_test, predicted)\n",
    "plt.figure(figsize=(8,6))\n",
    "sns.set_context('paper', font_scale = 1.6)\n",
    "sns.heatmap(cm, annot = True, linecolor='white',linewidth=1,cmap=\"Blues\")  "
   ]
  },
  {
   "cell_type": "markdown",
   "metadata": {},
   "source": [
    "#### Model Saving"
   ]
  },
  {
   "cell_type": "code",
   "execution_count": 23,
   "metadata": {},
   "outputs": [
    {
     "data": {
      "text/plain": [
       "['svm.joblib']"
      ]
     },
     "execution_count": 23,
     "metadata": {},
     "output_type": "execute_result"
    }
   ],
   "source": [
    "joblib.dump(svm, \"svm.joblib\") "
   ]
  },
  {
   "cell_type": "markdown",
   "metadata": {},
   "source": [
    "# Face Detection & Real-Time Classification "
   ]
  },
  {
   "cell_type": "code",
   "execution_count": 24,
   "metadata": {},
   "outputs": [],
   "source": [
    "def classify_img(face_img):\n",
    "    pca = joblib.load('pca.joblib') \n",
    "    svm = joblib.load('svm.joblib') \n",
    "    face_img = cv2.resize(face_img,(64,64))\n",
    "    face_img = face_img.reshape(1,4096)\n",
    "    face_img = pca.transform(face_img)\n",
    "    return svm.predict(face_img)\n",
    "    "
   ]
  },
  {
   "cell_type": "code",
   "execution_count": 25,
   "metadata": {},
   "outputs": [],
   "source": [
    "def Get_face(img):\n",
    "    face_cascade = cv2.CascadeClassifier( \"haarcascade_frontalface_alt.xml\")\n",
    "    return face_cascade.detectMultiScale(img)"
   ]
  },
  {
   "cell_type": "code",
   "execution_count": 25,
   "metadata": {},
   "outputs": [],
   "source": [
    "cam = cv2.VideoCapture(0)\n",
    "cv2.namedWindow(\"Facial_Emotion\")\n",
    "res = None\n",
    "\n",
    "while cv2.getWindowProperty('Facial_Emotion', 0) >= 0:\n",
    "    ret, frame = cam.read()\n",
    "    gray = frame \n",
    "    faces = Get_face(gray)\n",
    "    \n",
    "    for (x, y, w, h) in faces:\n",
    "        cv2.rectangle(frame, (x, y), (x+w, y+h), (0, 255, 0), 2)\n",
    "        face_img = cv2.cvtColor(gray[y:y+h, x:x+w], cv2.COLOR_BGR2GRAY)\n",
    "        time.sleep(0.1)\n",
    "        res = classify_img(face_img)\n",
    "\n",
    "\n",
    "        if res == 0:\n",
    "            cv2.putText(frame, \"Neutral\", (x-50,h-20), cv2.FONT_HERSHEY_SIMPLEX, 1.3,(0, 0, 255),2)\n",
    "        elif res ==1:\n",
    "            cv2.putText(frame, \"Sad\", (x-50,h-20), cv2.FONT_HERSHEY_SIMPLEX, 1.3,(0, 0, 255),2)\n",
    "        else:\n",
    "            cv2.putText(frame, \"Happy\", (x-50,h-20), cv2.FONT_HERSHEY_SIMPLEX, 1.3,(0, 0, 255),2)\n",
    "\n",
    "        cv2.imshow(\"Facial_Emotion\", frame)\n",
    "\n",
    "        if not ret:\n",
    "            break\n",
    "   \n",
    "    key = cv2.waitKey(50)\n",
    "    if key%256 == 27:\n",
    "        cam.release()\n",
    "        cv2.destroyAllWindows()\n",
    "        break\n",
    "    \n",
    "cam.release()\n",
    "cv2.destroyAllWindows()"
   ]
  },
  {
   "cell_type": "code",
   "execution_count": null,
   "metadata": {},
   "outputs": [],
   "source": []
  }
 ],
 "metadata": {
  "kernelspec": {
   "display_name": "Python 3",
   "language": "python",
   "name": "python3"
  },
  "language_info": {
   "codemirror_mode": {
    "name": "ipython",
    "version": 3
   },
   "file_extension": ".py",
   "mimetype": "text/x-python",
   "name": "python",
   "nbconvert_exporter": "python",
   "pygments_lexer": "ipython3",
   "version": "3.8.8"
  }
 },
 "nbformat": 4,
 "nbformat_minor": 2
}
